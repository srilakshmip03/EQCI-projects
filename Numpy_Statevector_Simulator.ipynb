{
  "cells": [
    {
      "cell_type": "markdown",
      "id": "e013572e-d2c0-47ea-a725-58df28e2e43d",
      "metadata": {
        "tags": [],
        "id": "e013572e-d2c0-47ea-a725-58df28e2e43d"
      },
      "source": [
        "**Numpy Statevector Simulator**\n",
        "---\n"
      ]
    },
    {
      "cell_type": "code",
      "execution_count": 6,
      "id": "96f72aac-f14e-479a-821b-5874199715a4",
      "metadata": {
        "id": "96f72aac-f14e-479a-821b-5874199715a4",
        "colab": {
          "base_uri": "https://localhost:8080/",
          "height": 312
        },
        "outputId": "fd9017dd-0ed8-4487-8e0c-75340d5793d7"
      },
      "outputs": [
        {
          "output_type": "error",
          "ename": "ModuleNotFoundError",
          "evalue": "ignored",
          "traceback": [
            "\u001b[0;31m---------------------------------------------------------------------------\u001b[0m",
            "\u001b[0;31mModuleNotFoundError\u001b[0m                       Traceback (most recent call last)",
            "\u001b[0;32m<ipython-input-6-578b7f7e9727>\u001b[0m in \u001b[0;36m<cell line: 1>\u001b[0;34m()\u001b[0m\n\u001b[0;32m----> 1\u001b[0;31m \u001b[0;32mimport\u001b[0m \u001b[0mqiskit\u001b[0m\u001b[0;34m\u001b[0m\u001b[0;34m\u001b[0m\u001b[0m\n\u001b[0m",
            "\u001b[0;31mModuleNotFoundError\u001b[0m: No module named 'qiskit'",
            "",
            "\u001b[0;31m---------------------------------------------------------------------------\u001b[0;32m\nNOTE: If your import is failing due to a missing package, you can\nmanually install dependencies using either !pip or !apt.\n\nTo view examples of installing some common dependencies, click the\n\"Open Examples\" button below.\n\u001b[0;31m---------------------------------------------------------------------------\u001b[0m\n"
          ],
          "errorDetails": {
            "actions": [
              {
                "action": "open_url",
                "actionText": "Open Examples",
                "url": "/notebooks/snippets/importing_libraries.ipynb"
              }
            ]
          }
        }
      ],
      "source": [
        "import numpy as np\n",
        "import matplotlib.pyplot as plt\n",
        "import qiskit\n",
        "from qiskit.visualization import visualize_transition\n",
        "print(\"All modules imported successfully!\")"
      ]
    },
    {
      "cell_type": "markdown",
      "id": "2828b504-3597-4923-9672-ab7b52275b0e",
      "metadata": {
        "id": "2828b504-3597-4923-9672-ab7b52275b0e"
      },
      "source": [
        "<a name=\"p1\"></a>\n",
        "\n",
        "---\n",
        "## **Part 1: Multi-Qubit Circuits and Processing Arbitrary Gates**\n",
        "---\n",
        "\n"
      ]
    },
    {
      "cell_type": "code",
      "source": [
        "def apply_gates(qc,qubit):\n",
        "\n",
        "  #This function applies the gates of the quantum circuit.\n",
        "\n",
        "  #We first use the quantum circuit to gain intructions about the gates that are being applied, which helps us implement gates that we haven't\n",
        "  #hard-coded. We then extract information about the gate we want to apply, and obtain the matrix for that gate. However, this matrix will often\n",
        "  # be too small to apply to our statevector, so we compose it with a 2^n by 2^n identity matrix so we can make use of the .compose() method's\n",
        "  # qargs argument, which allows us to specify which qubits to apply the gate to. We extract this information by using the index attribute of the\n",
        "  #Qubit() object.\n",
        "\n",
        "  for instruction in qc.data:\n",
        "    base_matrix = qiskit.quantum_info.operators.Operator(instruction.operation)\n",
        "    qubits_to_apply_to = [i.index for i in instruction.qubits]\n",
        "    n_qubit_identity = qiskit.quantum_info.operators.Operator(np.eye(2**qc.num_qubits))\n",
        "    gate_to_apply = n_qubit_identity.compose(base_matrix,qargs=qubits_to_apply_to)\n",
        "    qubit=np.dot(gate_to_apply,qubit)\n",
        "  return qubit"
      ],
      "metadata": {
        "id": "AT-LqyoibvMu"
      },
      "id": "AT-LqyoibvMu",
      "execution_count": null,
      "outputs": []
    },
    {
      "cell_type": "markdown",
      "id": "cd736177-ed55-48f0-b7f7-5f2bfe223be2",
      "metadata": {
        "id": "cd736177-ed55-48f0-b7f7-5f2bfe223be2"
      },
      "source": [
        "<a name=\"p2\"></a>\n",
        "\n",
        "---\n",
        "## **Part 2: Miscellaneous Features**\n",
        "---\n",
        "\n",
        "Our simulator now is able to work with any number of qubits, works with complex numbers, and can implement any gate in qiskit! You have created a very flexible simulator, and that is something to be proud of! However, there are plenty of features you could add to make your simulator even more powerful. With the remaining time, try to implement as many as the following features as possible:\n",
        "\n",
        "\n",
        "*   **Implementing a noise model:**\n",
        "      - Add the capability to specify different probabilties for different errors to occur. These error rates would correspond to applying an X gate (bit flip error), Z gate (phase flip error), or Y gate (both types of errors) that weren't originally present in the original circuit.\n",
        "      - Can also add readout errors, decoherence errors, and relaxation errors, but decoherence and relaxation would require a simulation of the time it takes to apply gates.\n",
        "      - You can then test out how different algorithms work with various error rates!\n",
        "      - Note that you will need to simulate an error on each qubit. You will then create a single matrix with all of the possible errors after applying each gate. This can be done relatively easy if you create a temporary quantum circuit, as we did in the\n",
        "*   **Creating an arbitrary initial state**\n",
        "      - In qiskit, there is a `QuantumCircuit.prepare_state()` method for `QuantumCircuit`s. However, it turns out that this method simply implements a collection of rotation gates (and CX gates, if the state is entangled)!\n",
        "      - Using the Bloch sphere and trigonometry, find what set of rotations you would need to create a single-qubit state using a collection of rotation gates (rx, ry, and rz in qiskit).\n",
        "      - However, if the state is entangled, the math gets very messy very quickly ([read more here](https://arxiv.org/pdf/quant-ph/0308006.pdf)). It also requires some sophisticated math to check mathematically if a vector represents an entangled state. Therefore, if the input quantum ciruit has more than one qubit, you can simply use the initial state vector passed as an input as the initial state of the qubit (no need to start from the 0 state).\n",
        "*  **Modify the graphing of the of the probability histogram to depict phase:**\n",
        "      - Even though the phase isn't always observable, simulations are able to give us information about phase, and we might as well make use of that.\n",
        "      - Multiply the statevector by a complex number with magnitude 1 to make the first component real and positive ([read why we can do this here](https://quantum-computing.ibm.com/admin/docs/admin/guide/introducing-qubit-phase)), then convert the complex entries of all the other components into polar form.\n",
        "      -We can then use the phase angle (the value in the exponent) to generate a unique color. Plot the bar corresponding to each measurable state in this new color to give information about the phase.\n",
        "      - It may be useful to include a color scale in the comments of your code or on the histogram, if you are able to do that!\n",
        "*  **Add the option to measure the state in a different basis**\n",
        "      - We can simulate measurement in other bases by applying a gate that switches the place of the Z axis and the axis we want to measure. For the X axis, the H gate \"switches\" the X axis and the Z axis. If we end up measuring a 0, we can conclude that before the H gate, the qubit must have been in the + state. If we measure a 1, we can conclude that before the H gate, the qubit must have been in the 0 state. The first step is to find the gate that sends the 0 state to the i state and the 1 state to the -i state.\n",
        "      - Add an argument to your function that allows the user to specify a basis (X,Y, or Z), and use the method described above to simulate measurement in other bases. Note that you must apply the transformation to every qubit in the quantum circuit. To figure out how to do this using a single matrix, [read this description of using the tensor product to create multi-qubit representations of single qubit gates](https://quantumcomputing.stackexchange.com/a/2271). Note that for vectors/matrices, the tensor product is instead called the Kronecker product.\n",
        "      - Finally, modify the plotting of the histogram to reflect the possible measurement results."
      ]
    },
    {
      "cell_type": "markdown",
      "source": [
        "### **Implementing a Noise Model**"
      ],
      "metadata": {
        "id": "cmbHpsSqY4v8"
      },
      "id": "cmbHpsSqY4v8"
    },
    {
      "cell_type": "code",
      "source": [
        "def apply_gates(qc,qubit,noise):\n",
        "\n",
        "  #This function applies the gates of the quantum circuit, and also implements the noise model.\n",
        "\n",
        "  #We first use the quantum circuit to gain intructions about the gates that are being applied, which helps us implement gates that we haven't\n",
        "  #hard-coded. We create a temporary quantum circuit, which will be used to convert the instruction into an operator. We then randomly pick\n",
        "  # which qubits to apply the error gates to, and add these to the circuit before converting it to an operator, and applying it to the qubit state.\n",
        "\n",
        "  for instruction in qc.data:\n",
        "    qc_temp = qiskit.QuantumCircuit(qc.num_qubits)\n",
        "    qc_temp.append(instruction)\n",
        "\n",
        "    x_err = [np.random.choice([0,1],p=[1-noise[0],noise[0]]) for i in range(qc.num_qubits)]\n",
        "    z_err = [np.random.choice([0,1],p=[1-noise[1],noise[1]]) for i in range(qc.num_qubits)]\n",
        "    y_err = [np.random.choice([0,1],p=[1-noise[2],noise[2]]) for i in range(qc.num_qubits)]\n",
        "    for i in range(qc.num_qubits):\n",
        "      if x_err[i]==1:\n",
        "        qc_temp.x(i)\n",
        "      if y_err[i]==1:\n",
        "        qc_temp.y(i)\n",
        "      if z_err[i] == 1:\n",
        "        qc_temp.z(i)\n",
        "    gate = qiskit.quantum_info.operators.Operator(qc_temp)\n",
        "    qubit=np.dot(gate,qubit)\n",
        "  return qubit"
      ],
      "metadata": {
        "id": "d0QMKfBcZS6G"
      },
      "id": "d0QMKfBcZS6G",
      "execution_count": null,
      "outputs": []
    },
    {
      "cell_type": "markdown",
      "source": [
        "### **Creating an Arbitrary Initial State**"
      ],
      "metadata": {
        "id": "8TxE1a5bZjqA"
      },
      "id": "8TxE1a5bZjqA"
    },
    {
      "cell_type": "code",
      "source": [
        "def prepare_state(qc,initial_state):\n",
        "\n",
        "  #This function is used to prepare an initial state using rotation gates, but only if the initial state is the right size.\n",
        "  #This function helps solve the problem of preparing an initial state.\n",
        "\n",
        "  #Checks if the input is a valid input vector\n",
        "  if initial_state.shape[0]!=2**qc.num_qubits:\n",
        "      raise ValueError(\"Invalid Statevector. Statevector must have 2^n components.\")\n",
        "\n",
        "  #The math is too complex for multi-qubit circuits. First, we check if our quantum circuit has only one qubit. If there is,\n",
        "  #we use the ry gate to adjust the measurement probabilities, then the rz gate to adjust the relative phase. The angles are\n",
        "  # calulated using the formulas below. Note that all angles on the Bloch sphere are doubled (since, for example, the 0 state\n",
        "  # and the 1 state are \"orthogonal\", which normally is a 90 degree angle, but on the Bloch sphere, they are 180 degrees apart).\n",
        "\n",
        "  if qc.num_qubits ==1:\n",
        "    qubit = np.array([[1],\n",
        "                      [0]])\n",
        "    ry_angle = 2*np.arctan(np.abs(initial_state[1][0])/np.abs(initial_state[0][0]))\n",
        "    ry_gate = np.array([[np.cos(ry_angle/2),-1*np.sin(ry_angle/2)],[np.sin(ry_angle/2),np.cos(ry_angle/2)]])\n",
        "    qubit = np.dot(ry_gate,qubit)\n",
        "\n",
        "    #Here, the goal is to account for relative phase. The way we do this is first by checking that the first component is\n",
        "    # nonzero. If it is zero, then there is no relative phase to deal with, so we do not need to apply an rz gate. Otherwise,\n",
        "    # we  use np.angle to calculate the phase angle between the two components. We then rotate the state around the z axis\n",
        "    # by that angle. Note that for simplicity, we first make it so that the first component is a positive real number. This is\n",
        "    #equivalent to taking the difference between the phase angle of the second component and the phase angle of the first component.\n",
        "\n",
        "    if complex(initial_state[0][0])!=complex(0):\n",
        "      adjusted_qubit_state = (np.abs(initial_state[0][0])/initial_state[0][0])*initial_state\n",
        "      relative_phase = np.angle(adjusted_qubit_state[1][0])\n",
        "      rz_angle = relative_phase\n",
        "      rz_gate = np.array([[np.exp(-1j*rz_angle/2),0],[0,np.exp(1j*rz_angle/2)]])\n",
        "      qubit=np.dot(rz_gate,qubit)\n",
        "\n",
        "  #If we have more than one qubit, we can just accept the provided statevector as the initial state of the qubit.\n",
        "\n",
        "  else:\n",
        "    qubit = initial_state\n",
        "  return qubit"
      ],
      "metadata": {
        "id": "J3JCSGBSZosy"
      },
      "id": "J3JCSGBSZosy",
      "execution_count": null,
      "outputs": []
    },
    {
      "cell_type": "markdown",
      "source": [
        "### **Modifying the Graph of Probabilities to Depict Phase**"
      ],
      "metadata": {
        "id": "ZHsxQzosZMWA"
      },
      "id": "ZHsxQzosZMWA"
    },
    {
      "cell_type": "code",
      "source": [
        "def create_histogram(qubit,counts):\n",
        "\n",
        "  #This function plots a histogram of the results, and colors the bars depending on the phase of the state being measured.\n",
        "\n",
        "  #First, we use np.angle to calculate the phase angle of all of the components. Because this function returns angles\n",
        "  #between -pi and pi, we add pi to all angles so that instead, our angles range from 0 to 2pi. We then use rgb coloring\n",
        "  #to pick the color based on the angle. We split up the 2pi radians into 255 levels. An angle of 0 would be 100% green,\n",
        "  #while an angle of 2pi would correspond to 100% red. The format line converts the rgb level to a hex color, which can be\n",
        "  #passed to the bar graph.\n",
        "  print(qubit)\n",
        "  complex_qubit = np.array([[complex(i[0])] for i in qubit])\n",
        "  angles = np.angle(qubit)+np.pi\n",
        "  angles=angles.reshape(-1)\n",
        "  colors = []\n",
        "  for angle in angles:\n",
        "    r=int(np.floor(angle*255/(2*np.pi)))\n",
        "    g=255-int(np.floor(angle*255/(2*np.pi)))\n",
        "    color = '#{:02x}{:02x}{:02x}'.format(r, g, 0)\n",
        "    colors.append(color)\n",
        "\n",
        "  #This code is extremely similar to the function from lab 10, but we add a color argument to the bar method. Also,\n",
        "  #note that we need to normalize the heights, so that our plot is not affected by the number of shots\n",
        "\n",
        "  fig, ax = plt.subplots()\n",
        "  labels = np.array(list(counts.keys()))\n",
        "  heights = np.array(list(counts.values()))\n",
        "  heights=heights/np.sum(heights)\n",
        "  ax.bar(labels, heights,color=colors)\n",
        "  ax.set_title(\"Probability of final state measurements\")\n",
        "  ax.set_xlabel(\"States\")\n",
        "  ax.set_ylabel(\"Probability\")\n",
        "  ax.set_ylim([0,1])\n",
        "  plt.show()"
      ],
      "metadata": {
        "id": "2Bp3qRT7Yz0N"
      },
      "id": "2Bp3qRT7Yz0N",
      "execution_count": null,
      "outputs": []
    },
    {
      "cell_type": "markdown",
      "source": [
        "### **Measurement in Different Bases**"
      ],
      "metadata": {
        "id": "0tGz146uaD_w"
      },
      "id": "0tGz146uaD_w"
    },
    {
      "cell_type": "code",
      "source": [
        "def allowed_final_states(qc,basis):\n",
        "\n",
        "  #This piece of code establishes, based on the desired measurement basis, the possible measurement results\n",
        "\n",
        "  if basis=='X':\n",
        "    possible_results=['+','-']\n",
        "  elif basis=='Y':\n",
        "    possible_results=['i','-i']\n",
        "  elif basis=='Z':\n",
        "    possible_results=['0','1']\n",
        "\n",
        "  #This code creates a list of all possible measurement results for combinations of n qubits. This code creates the list in an order that\n",
        "  #corresponds to the components of the probability vector.\n",
        "  final_states=[]\n",
        "  for i in range(2**qc.num_qubits):\n",
        "    final_state = '{0:0'+str(qc.num_qubits)+'b}'\n",
        "    final_state = final_state.format(i).replace('0',possible_results[0]).replace('1',possible_results[1])\n",
        "    final_states.append(final_state)\n",
        "  return final_states"
      ],
      "metadata": {
        "id": "Y2y_qhXtaIfL"
      },
      "id": "Y2y_qhXtaIfL",
      "execution_count": null,
      "outputs": []
    },
    {
      "cell_type": "code",
      "source": [
        "def measurement(qc,qubit,basis,final_states):\n",
        "  if basis == 'Z':\n",
        "    probability_vector = np.power(np.abs(qubit),2)\n",
        "    new_qubit=qubit\n",
        "  elif basis == 'X':\n",
        "    H = (1/np.sqrt(2))*np.array([[1,1],[1,-1]])\n",
        "    change_of_basis_matrix = H\n",
        "    for i in range(qc.num_qubits-1):\n",
        "      change_of_basis_matrix = np.kron(change_of_basis_matrix,H)\n",
        "    new_qubit = np.dot(change_of_basis_matrix,qubit)\n",
        "    probability_vector = np.power(np.abs(new_qubit),2)\n",
        "  elif basis == 'Y':\n",
        "    Y_basis = (1/np.sqrt(2))*np.array([[1,1j],[1,-1j]])\n",
        "    change_of_basis_matrix = Y_basis\n",
        "    for i in range(qc.num_qubits-1):\n",
        "      change_of_basis_matrix = np.kron(change_of_basis_matrix,Y_basis)\n",
        "    new_qubit = np.dot(change_of_basis_matrix,qubit)\n",
        "    probability_vector = np.power(np.abs(new_qubit),2)\n",
        "  pick = np.random.choice(final_states,p=probability_vector.reshape(-1))\n",
        "  return pick, new_qubit"
      ],
      "metadata": {
        "id": "OocTyjwjqdy9"
      },
      "id": "OocTyjwjqdy9",
      "execution_count": null,
      "outputs": []
    },
    {
      "cell_type": "markdown",
      "source": [
        "<a name=\"p3\"></a>\n",
        "\n",
        "---\n",
        "## **Part 3: Putting it All Together**\n",
        "---"
      ],
      "metadata": {
        "id": "qmbBX-G1aOom"
      },
      "id": "qmbBX-G1aOom"
    },
    {
      "cell_type": "code",
      "source": [
        "def statevector_execute(qc,shots=1000,initial_state=np.array([[0],[0]]),basis=\"Z\",noise=[0,0,0]):\n",
        "\n",
        "  #This function collects all the features together. First, if we do not specify an initial state, we create a statevector with 2^n components,\n",
        "  # and a 1 in the first component (which represents the state where all qubits are in the 0 state)\n",
        "\n",
        "  final_states = []\n",
        "  if np.all(initial_state==[0]):\n",
        "      initial_state=np.zeros((2**qc.num_qubits,1))\n",
        "      initial_state[0][0]=1\n",
        "\n",
        "  #This function takes in the number of qubits in the quantum circuit and creates a list of all possible measurement results in the desired basis,\n",
        "  #which aligns with the order of the probability vector\n",
        "\n",
        "  final_states = allowed_final_states(qc, basis)\n",
        "\n",
        "  #Creates an empty dictionary, which will be used to keep track of measurement results\n",
        "\n",
        "  counts = {i:0 for i in final_states}\n",
        "\n",
        "  #The following code simulates the quantum circuit. Each iteration, we prepare the initial state, apply the gates, then make a measurement.\n",
        "  #Repeating all of these steps is necessary because each time we run the apply_gates() function, a new set of errors is generated, so we will\n",
        "  #get different probabilities of measuring different final states. The last line of code increases the counter of the measured state. We then\n",
        "  #return the counts dictionary and the qubit state of the final measurement (for the phase coloring of the histogram).\n",
        "\n",
        "  for i in range(shots):\n",
        "    qubit = prepare_state(qc,initial_state)\n",
        "    qubit=apply_gates(qc,qubit,noise)\n",
        "    pick,qubit = measurement(qc,qubit,basis,final_states)\n",
        "    counts[pick]+=1\n",
        "  return counts, qubit\n"
      ],
      "metadata": {
        "id": "HSK7bc1-aUO1"
      },
      "id": "HSK7bc1-aUO1",
      "execution_count": null,
      "outputs": []
    },
    {
      "cell_type": "markdown",
      "id": "c9d991df-ad9b-4187-b9b4-318af12763f3",
      "metadata": {
        "jp-MarkdownHeadingCollapsed": true,
        "tags": [],
        "id": "c9d991df-ad9b-4187-b9b4-318af12763f3"
      },
      "source": [
        "#End of notebook\n",
        "---\n",
        "© 2023 The Coding School, All rights reserved"
      ]
    }
  ],
  "metadata": {
    "kernelspec": {
      "display_name": "Python 3 (ipykernel)",
      "language": "python",
      "name": "python3"
    },
    "language_info": {
      "codemirror_mode": {
        "name": "ipython",
        "version": 3
      },
      "file_extension": ".py",
      "mimetype": "text/x-python",
      "name": "python",
      "nbconvert_exporter": "python",
      "pygments_lexer": "ipython3",
      "version": "3.9.5"
    },
    "colab": {
      "provenance": [],
      "toc_visible": true
    }
  },
  "nbformat": 4,
  "nbformat_minor": 5
}